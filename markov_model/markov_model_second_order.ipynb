{
 "cells": [
  {
   "cell_type": "code",
   "execution_count": 1,
   "metadata": {},
   "outputs": [],
   "source": [
    "import numpy as np\n",
    "import matplotlib.pyplot as plt\n",
    "import string\n",
    "from sklearn.model_selection import train_test_split\n",
    "\n",
    "np.random.seed(1234)"
   ]
  },
  {
   "cell_type": "code",
   "execution_count": 2,
   "metadata": {},
   "outputs": [],
   "source": [
    "robert_frost_file_path = \"../data/robert_frost.txt\" #robert_frost_small robert_frost"
   ]
  },
  {
   "cell_type": "code",
   "execution_count": 3,
   "metadata": {},
   "outputs": [],
   "source": [
    "def preprocessing_word(lst):\n",
    "    return [x.lower().translate(str.maketrans('', '', string.punctuation)) for x in lst]"
   ]
  },
  {
   "cell_type": "code",
   "execution_count": 4,
   "metadata": {},
   "outputs": [],
   "source": [
    "def file_to_tokenize(file_path):\n",
    "    '''\n",
    "    This function purpose is to read file and convert to list of tokenize\n",
    "    '''\n",
    "    tokenize_list = []\n",
    "    f = open(file_path, \"r\")\n",
    "    for x in f:\n",
    "        tokenize_list.append(x.split())\n",
    "        \n",
    "    # remove empty array\n",
    "    tokenize_list = [ x for x in tokenize_list if len(x) != 0]\n",
    "    \n",
    "    #preprocessing\n",
    "    tmp = []\n",
    "    for x in tokenize_list:\n",
    "        tmp.append(preprocessing_word(x))\n",
    "        \n",
    "    tokenize_list = tmp\n",
    "        \n",
    "    return tokenize_list"
   ]
  },
  {
   "cell_type": "code",
   "execution_count": 5,
   "metadata": {},
   "outputs": [
    {
     "data": {
      "text/plain": [
       "1436"
      ]
     },
     "execution_count": 5,
     "metadata": {},
     "output_type": "execute_result"
    }
   ],
   "source": [
    "# read file and convert to tokenize by function file_to_tokenize\n",
    "robert_frost_tokenize_list = file_to_tokenize(robert_frost_file_path)\n",
    "len(robert_frost_tokenize_list)"
   ]
  },
  {
   "cell_type": "code",
   "execution_count": 6,
   "metadata": {},
   "outputs": [
    {
     "data": {
      "text/plain": [
       "[['two', 'roads', 'diverged', 'in', 'a', 'yellow', 'wood'],\n",
       " ['and', 'sorry', 'i', 'could', 'not', 'travel', 'both'],\n",
       " ['and', 'be', 'one', 'traveler', 'long', 'i', 'stood'],\n",
       " ['and', 'looked', 'down', 'one', 'as', 'far', 'as', 'i', 'could'],\n",
       " ['to', 'where', 'it', 'bent', 'in', 'the', 'undergrowth']]"
      ]
     },
     "execution_count": 6,
     "metadata": {},
     "output_type": "execute_result"
    }
   ],
   "source": [
    "robert_frost_tokenize_list[:5]"
   ]
  },
  {
   "cell_type": "code",
   "execution_count": 21,
   "metadata": {},
   "outputs": [],
   "source": [
    "# train model using dict\n",
    "first_order_state_transition  = None\n",
    "first_order_initial_state = None\n",
    "\n",
    "second_order_state_transition  = None\n",
    "second_order_initial_state = None"
   ]
  },
  {
   "cell_type": "code",
   "execution_count": 24,
   "metadata": {},
   "outputs": [],
   "source": [
    "# compute counting for state transition and initial state \n",
    "def compute_counting(lst):\n",
    "    first_order_state_transition  = {}\n",
    "    initial_state = {}\n",
    "\n",
    "    second_order_state_transition  = {}\n",
    "    \n",
    "    for tokens in lst:    \n",
    "         \n",
    "        first_index = None\n",
    "        second_index = None\n",
    "        counting_word = 1\n",
    "        for idx in tokens:\n",
    "                \n",
    "            if counting_word == 1:\n",
    "                if idx not in initial_state:\n",
    "                    initial_state[idx] = 1\n",
    "                else:\n",
    "                    initial_state[idx] += 1\n",
    "                    \n",
    "\n",
    "            if counting_word == 2:\n",
    "                if first_index not in first_order_state_transition:\n",
    "                    first_order_state_transition[first_index] = {}\n",
    "                if idx not in first_order_state_transition[first_index]:\n",
    "                    first_order_state_transition[first_index][idx] = 1\n",
    "                else:\n",
    "                    first_order_state_transition[first_index][idx] += 1\n",
    "                    \n",
    "            if counting_word == len(tokens)-1:\n",
    "                key = (first_index,idx)\n",
    "                if key not in second_order_state_transition:\n",
    "                    second_order_state_transition[key] = {}\n",
    "                second_order_state_transition[key]['end'] = 1\n",
    "                    \n",
    "                    \n",
    "            if counting_word >= 3:\n",
    "                \n",
    "                key = (second_index,first_index)\n",
    "                if key not in second_order_state_transition:\n",
    "                    second_order_state_transition[key] = {}\n",
    "                \n",
    "                if idx not in second_order_state_transition[key]:\n",
    "                    second_order_state_transition[key][idx] = 1\n",
    "                else:\n",
    "                    second_order_state_transition[key][idx] += 1\n",
    "            \n",
    "\n",
    "                                     \n",
    "\n",
    "#             if counting_word <= 5:\n",
    "#                 print(counting_word,second_index,first_index,idx)\n",
    "            second_index = first_index    \n",
    "            first_index = idx\n",
    "                \n",
    "            counting_word += 1\n",
    "                \n",
    "\n",
    "    \n",
    "    return initial_state,first_order_state_transition,second_order_state_transition"
   ]
  },
  {
   "cell_type": "code",
   "execution_count": 48,
   "metadata": {},
   "outputs": [],
   "source": [
    "initial_state,first_order_state_transition,second_order_state_transition = compute_counting(robert_frost_tokenize_list)"
   ]
  },
  {
   "cell_type": "code",
   "execution_count": 49,
   "metadata": {},
   "outputs": [
    {
     "data": {
      "text/plain": [
       "{'two': 8, 'and': 129, 'to': 50, 'then': 12, 'because': 1}"
      ]
     },
     "execution_count": 49,
     "metadata": {},
     "output_type": "execute_result"
    }
   ],
   "source": [
    "dict(list(initial_state.items())[0:5])"
   ]
  },
  {
   "cell_type": "code",
   "execution_count": 50,
   "metadata": {},
   "outputs": [
    {
     "data": {
      "text/plain": [
       "{'two': {'roads': 2,\n",
       "  'miles': 1,\n",
       "  'oldbelievers': 1,\n",
       "  'winds': 1,\n",
       "  'weeks': 1,\n",
       "  'of': 1,\n",
       "  'at': 1},\n",
       " 'and': {'sorry': 2,\n",
       "  'be': 1,\n",
       "  'looked': 1,\n",
       "  'having': 1,\n",
       "  'both': 2,\n",
       "  'that': 2,\n",
       "  'miles': 2,\n",
       "  'would': 1,\n",
       "  'dropped': 1,\n",
       "  'further': 1,\n",
       "  'when': 1,\n",
       "  'tell': 3,\n",
       "  'the': 4,\n",
       "  'caught': 1,\n",
       "  'put': 2,\n",
       "  'threw': 1,\n",
       "  'birds': 1,\n",
       "  'suddenly': 1,\n",
       "  'scurf': 1,\n",
       "  'since': 2,\n",
       "  'whats': 1,\n",
       "  'many': 1,\n",
       "  'blew': 1,\n",
       "  'stamped': 1,\n",
       "  'sometimes': 1,\n",
       "  'some': 1,\n",
       "  'then': 3,\n",
       "  'came': 1,\n",
       "  'this': 2,\n",
       "  'politician': 1,\n",
       "  'thatd': 1,\n",
       "  'rode': 1,\n",
       "  'if': 2,\n",
       "  'from': 1,\n",
       "  'i': 4,\n",
       "  'he': 1,\n",
       "  'full': 1,\n",
       "  'experts': 1,\n",
       "  'built': 1,\n",
       "  'thats': 1,\n",
       "  'spoke': 2,\n",
       "  'anyway': 1,\n",
       "  'had': 1,\n",
       "  'how': 1,\n",
       "  'taken': 1,\n",
       "  'lie': 1,\n",
       "  'left': 1,\n",
       "  'stroked': 1,\n",
       "  'a': 2,\n",
       "  'me': 1,\n",
       "  'between': 1,\n",
       "  'wont': 1,\n",
       "  'hes': 1,\n",
       "  'his': 1,\n",
       "  'nothing': 1,\n",
       "  'better': 1,\n",
       "  'kick': 1,\n",
       "  'carried': 1,\n",
       "  'thought': 1,\n",
       "  'swollen': 2,\n",
       "  'hold': 1,\n",
       "  'all': 2,\n",
       "  'fell': 1,\n",
       "  'set': 1,\n",
       "  'sit': 2,\n",
       "  'bring': 1,\n",
       "  'push': 1,\n",
       "  'those': 2,\n",
       "  'sproutlands': 1,\n",
       "  'perhaps': 2,\n",
       "  'see': 1,\n",
       "  'dangle': 1,\n",
       "  'disappeared': 1,\n",
       "  'below': 1,\n",
       "  'what': 1,\n",
       "  'come': 1,\n",
       "  'begin': 1,\n",
       "  'build': 1,\n",
       "  'in': 2,\n",
       "  'theres': 1,\n",
       "  'stifling': 1,\n",
       "  'got': 1,\n",
       "  'lift': 1,\n",
       "  'give': 1,\n",
       "  'fight': 1,\n",
       "  'such': 1,\n",
       "  'moon': 1,\n",
       "  'jupiter': 1,\n",
       "  'save': 1,\n",
       "  'nation': 1,\n",
       "  'though': 1,\n",
       "  'now': 1,\n",
       "  'wheres': 1,\n",
       "  'shell': 1,\n",
       "  'no': 1,\n",
       "  'end': 1,\n",
       "  'after': 1,\n",
       "  'we': 1,\n",
       "  'like': 1,\n",
       "  'youre': 1,\n",
       "  'turn': 1,\n",
       "  'not': 1,\n",
       "  'last': 1}}"
      ]
     },
     "execution_count": 50,
     "metadata": {},
     "output_type": "execute_result"
    }
   ],
   "source": [
    "dict(list(first_order_state_transition.items())[0:2])"
   ]
  },
  {
   "cell_type": "code",
   "execution_count": 51,
   "metadata": {},
   "outputs": [
    {
     "data": {
      "text/plain": [
       "{('two', 'roads'): {'diverged': 2},\n",
       " ('roads', 'diverged'): {'in': 2},\n",
       " ('diverged', 'in'): {'a': 2},\n",
       " ('in', 'a'): {'yellow': 1,\n",
       "  'wood': 1,\n",
       "  'end': 1,\n",
       "  'window': 1,\n",
       "  'packing': 1,\n",
       "  'byroad': 1,\n",
       "  'family': 1,\n",
       "  'new': 1,\n",
       "  'row': 1,\n",
       "  'time': 1,\n",
       "  'town': 1,\n",
       "  'book': 1,\n",
       "  'smother': 1,\n",
       "  'glass': 2},\n",
       " ('a', 'yellow'): {'end': 1, 'wood': 1}}"
      ]
     },
     "execution_count": 51,
     "metadata": {},
     "output_type": "execute_result"
    }
   ],
   "source": [
    "dict(list(second_order_state_transition.items())[0:5])"
   ]
  },
  {
   "cell_type": "code",
   "execution_count": 42,
   "metadata": {},
   "outputs": [],
   "source": [
    "def convert_to_prob(initial_state,first_order_state_transition,second_order_dict):\n",
    "    for i in second_order_dict:\n",
    "#         print(i)\n",
    "#         print(second_order_dict[i])\n",
    "        total_word_in_key = sum(second_order_dict[i].values())\n",
    "        for j in second_order_dict[i]:\n",
    "                tmp_get = second_order_dict.get(i, {}).get(j,None)\n",
    "                if not tmp_get is None:\n",
    "                    second_order_dict[i][j] = tmp_get/total_word_in_key\n",
    "                else:\n",
    "                    second_order_dict[i][j] = 0\n",
    "#             print(i,j,k,tmp_get)\n",
    "#         print('------')\n",
    "        \n",
    "    for i in first_order_state_transition:\n",
    "#         print(i)\n",
    "#         print(first_order_state_transition[i])\n",
    "        total_word_in_key = sum(first_order_state_transition[i].values())\n",
    "#         print(total_word_in_key)\n",
    "        for j in first_order_state_transition[i]:\n",
    "            tmp_get = first_order_state_transition[i].get(j, None)\n",
    "            if not tmp_get is None:\n",
    "                first_order_state_transition[i][j] = tmp_get/total_word_in_key\n",
    "            else:\n",
    "                first_order_state_transition[i][j] = 0\n",
    "#             print(j,tmp_get)\n",
    "#         print('------')\n",
    "\n",
    "    all_word_length = sum(initial_state.values())\n",
    "    for i in initial_state:\n",
    "#         print(i,initial_state[i],all_word_length)\n",
    "        initial_state[i] = initial_state[i]/all_word_length"
   ]
  },
  {
   "cell_type": "code",
   "execution_count": 52,
   "metadata": {},
   "outputs": [],
   "source": [
    "convert_to_prob(initial_state,first_order_state_transition,second_order_state_transition)"
   ]
  },
  {
   "cell_type": "code",
   "execution_count": 53,
   "metadata": {},
   "outputs": [
    {
     "data": {
      "text/plain": [
       "{'two': 0.005571030640668524,\n",
       " 'and': 0.08983286908077995,\n",
       " 'to': 0.034818941504178275,\n",
       " 'then': 0.008356545961002786,\n",
       " 'because': 0.0006963788300835655}"
      ]
     },
     "execution_count": 53,
     "metadata": {},
     "output_type": "execute_result"
    }
   ],
   "source": [
    "dict(list(initial_state.items())[0:5])"
   ]
  },
  {
   "cell_type": "code",
   "execution_count": 54,
   "metadata": {},
   "outputs": [
    {
     "data": {
      "text/plain": [
       "{'two': {'roads': 0.25,\n",
       "  'miles': 0.125,\n",
       "  'oldbelievers': 0.125,\n",
       "  'winds': 0.125,\n",
       "  'weeks': 0.125,\n",
       "  'of': 0.125,\n",
       "  'at': 0.125},\n",
       " 'and': {'sorry': 0.015503875968992248,\n",
       "  'be': 0.007751937984496124,\n",
       "  'looked': 0.007751937984496124,\n",
       "  'having': 0.007751937984496124,\n",
       "  'both': 0.015503875968992248,\n",
       "  'that': 0.015503875968992248,\n",
       "  'miles': 0.015503875968992248,\n",
       "  'would': 0.007751937984496124,\n",
       "  'dropped': 0.007751937984496124,\n",
       "  'further': 0.007751937984496124,\n",
       "  'when': 0.007751937984496124,\n",
       "  'tell': 0.023255813953488372,\n",
       "  'the': 0.031007751937984496,\n",
       "  'caught': 0.007751937984496124,\n",
       "  'put': 0.015503875968992248,\n",
       "  'threw': 0.007751937984496124,\n",
       "  'birds': 0.007751937984496124,\n",
       "  'suddenly': 0.007751937984496124,\n",
       "  'scurf': 0.007751937984496124,\n",
       "  'since': 0.015503875968992248,\n",
       "  'whats': 0.007751937984496124,\n",
       "  'many': 0.007751937984496124,\n",
       "  'blew': 0.007751937984496124,\n",
       "  'stamped': 0.007751937984496124,\n",
       "  'sometimes': 0.007751937984496124,\n",
       "  'some': 0.007751937984496124,\n",
       "  'then': 0.023255813953488372,\n",
       "  'came': 0.007751937984496124,\n",
       "  'this': 0.015503875968992248,\n",
       "  'politician': 0.007751937984496124,\n",
       "  'thatd': 0.007751937984496124,\n",
       "  'rode': 0.007751937984496124,\n",
       "  'if': 0.015503875968992248,\n",
       "  'from': 0.007751937984496124,\n",
       "  'i': 0.031007751937984496,\n",
       "  'he': 0.007751937984496124,\n",
       "  'full': 0.007751937984496124,\n",
       "  'experts': 0.007751937984496124,\n",
       "  'built': 0.007751937984496124,\n",
       "  'thats': 0.007751937984496124,\n",
       "  'spoke': 0.015503875968992248,\n",
       "  'anyway': 0.007751937984496124,\n",
       "  'had': 0.007751937984496124,\n",
       "  'how': 0.007751937984496124,\n",
       "  'taken': 0.007751937984496124,\n",
       "  'lie': 0.007751937984496124,\n",
       "  'left': 0.007751937984496124,\n",
       "  'stroked': 0.007751937984496124,\n",
       "  'a': 0.015503875968992248,\n",
       "  'me': 0.007751937984496124,\n",
       "  'between': 0.007751937984496124,\n",
       "  'wont': 0.007751937984496124,\n",
       "  'hes': 0.007751937984496124,\n",
       "  'his': 0.007751937984496124,\n",
       "  'nothing': 0.007751937984496124,\n",
       "  'better': 0.007751937984496124,\n",
       "  'kick': 0.007751937984496124,\n",
       "  'carried': 0.007751937984496124,\n",
       "  'thought': 0.007751937984496124,\n",
       "  'swollen': 0.015503875968992248,\n",
       "  'hold': 0.007751937984496124,\n",
       "  'all': 0.015503875968992248,\n",
       "  'fell': 0.007751937984496124,\n",
       "  'set': 0.007751937984496124,\n",
       "  'sit': 0.015503875968992248,\n",
       "  'bring': 0.007751937984496124,\n",
       "  'push': 0.007751937984496124,\n",
       "  'those': 0.015503875968992248,\n",
       "  'sproutlands': 0.007751937984496124,\n",
       "  'perhaps': 0.015503875968992248,\n",
       "  'see': 0.007751937984496124,\n",
       "  'dangle': 0.007751937984496124,\n",
       "  'disappeared': 0.007751937984496124,\n",
       "  'below': 0.007751937984496124,\n",
       "  'what': 0.007751937984496124,\n",
       "  'come': 0.007751937984496124,\n",
       "  'begin': 0.007751937984496124,\n",
       "  'build': 0.007751937984496124,\n",
       "  'in': 0.015503875968992248,\n",
       "  'theres': 0.007751937984496124,\n",
       "  'stifling': 0.007751937984496124,\n",
       "  'got': 0.007751937984496124,\n",
       "  'lift': 0.007751937984496124,\n",
       "  'give': 0.007751937984496124,\n",
       "  'fight': 0.007751937984496124,\n",
       "  'such': 0.007751937984496124,\n",
       "  'moon': 0.007751937984496124,\n",
       "  'jupiter': 0.007751937984496124,\n",
       "  'save': 0.007751937984496124,\n",
       "  'nation': 0.007751937984496124,\n",
       "  'though': 0.007751937984496124,\n",
       "  'now': 0.007751937984496124,\n",
       "  'wheres': 0.007751937984496124,\n",
       "  'shell': 0.007751937984496124,\n",
       "  'no': 0.007751937984496124,\n",
       "  'end': 0.007751937984496124,\n",
       "  'after': 0.007751937984496124,\n",
       "  'we': 0.007751937984496124,\n",
       "  'like': 0.007751937984496124,\n",
       "  'youre': 0.007751937984496124,\n",
       "  'turn': 0.007751937984496124,\n",
       "  'not': 0.007751937984496124,\n",
       "  'last': 0.007751937984496124}}"
      ]
     },
     "execution_count": 54,
     "metadata": {},
     "output_type": "execute_result"
    }
   ],
   "source": [
    "dict(list(first_order_state_transition.items())[0:2])"
   ]
  },
  {
   "cell_type": "code",
   "execution_count": 56,
   "metadata": {},
   "outputs": [
    {
     "data": {
      "text/plain": [
       "{('two', 'roads'): {'diverged': 1.0},\n",
       " ('roads', 'diverged'): {'in': 1.0},\n",
       " ('diverged', 'in'): {'a': 1.0},\n",
       " ('in', 'a'): {'yellow': 0.06666666666666667,\n",
       "  'wood': 0.06666666666666667,\n",
       "  'end': 0.06666666666666667,\n",
       "  'window': 0.06666666666666667,\n",
       "  'packing': 0.06666666666666667,\n",
       "  'byroad': 0.06666666666666667,\n",
       "  'family': 0.06666666666666667,\n",
       "  'new': 0.06666666666666667,\n",
       "  'row': 0.06666666666666667,\n",
       "  'time': 0.06666666666666667,\n",
       "  'town': 0.06666666666666667,\n",
       "  'book': 0.06666666666666667,\n",
       "  'smother': 0.06666666666666667,\n",
       "  'glass': 0.13333333333333333},\n",
       " ('a', 'yellow'): {'end': 0.5, 'wood': 0.5}}"
      ]
     },
     "execution_count": 56,
     "metadata": {},
     "output_type": "execute_result"
    }
   ],
   "source": [
    "dict(list(second_order_state_transition.items())[0:5]) "
   ]
  },
  {
   "cell_type": "code",
   "execution_count": 66,
   "metadata": {},
   "outputs": [],
   "source": [
    "def sample_word(input_dict):\n",
    "    # random value between 0-1\n",
    "    random_prob = np.random.rand()\n",
    "    \n",
    "    cumulative_sum = 0\n",
    "    \n",
    "    for k,v in input_dict.items():\n",
    "        cumulative_sum += v\n",
    "        if random_prob <= cumulative_sum:\n",
    "            return k"
   ]
  },
  {
   "cell_type": "code",
   "execution_count": 70,
   "metadata": {},
   "outputs": [
    {
     "data": {
      "text/plain": [
       "'glass'"
      ]
     },
     "execution_count": 70,
     "metadata": {},
     "output_type": "execute_result"
    }
   ],
   "source": [
    "sample_word(second_order_state_transition[('in', 'a')])"
   ]
  },
  {
   "cell_type": "code",
   "execution_count": 67,
   "metadata": {},
   "outputs": [
    {
     "data": {
      "text/plain": [
       "'miles'"
      ]
     },
     "execution_count": 67,
     "metadata": {},
     "output_type": "execute_result"
    }
   ],
   "source": [
    "sample_word(first_order_state_transition['two'])"
   ]
  },
  {
   "cell_type": "code",
   "execution_count": 78,
   "metadata": {},
   "outputs": [],
   "source": [
    "def generate_poem(initial_state,first_order_state_transition,second_order_state_transition):\n",
    "    for i in range(4):\n",
    "        sentence = []\n",
    "        \n",
    "        # sample start word\n",
    "        w0 =  sample_word(initial_state)\n",
    "        sentence.append(w0)\n",
    "        \n",
    "        # sample second_word\n",
    "        w1 =  sample_word(first_order_state_transition[w0])\n",
    "        sentence.append(w1)\n",
    "        \n",
    "        while True:\n",
    "            tmp = second_order_state_transition.get((w0,w1),None)\n",
    "            if tmp is None:\n",
    "                break\n",
    "            w2 = sample_word(second_order_state_transition[(w0,w1)])\n",
    "            if w2 =='end':\n",
    "                break\n",
    "        \n",
    "            sentence.append(w2)\n",
    "            w0 = w1\n",
    "            w1 = w2\n",
    "            \n",
    "        print(' '.join(sentence))"
   ]
  },
  {
   "cell_type": "code",
   "execution_count": 79,
   "metadata": {},
   "outputs": [
    {
     "name": "stdout",
     "output_type": "stream",
     "text": [
      "with whose vast wheels\n",
      "time someone came with arms\n",
      "but i must go we cant stay here for\n",
      "i like your going to say   there shed better\n"
     ]
    }
   ],
   "source": [
    "generate_poem(initial_state,first_order_state_transition,second_order_state_transition)"
   ]
  },
  {
   "cell_type": "code",
   "execution_count": null,
   "metadata": {},
   "outputs": [],
   "source": []
  }
 ],
 "metadata": {
  "kernelspec": {
   "display_name": "Python 3",
   "language": "python",
   "name": "python3"
  },
  "language_info": {
   "codemirror_mode": {
    "name": "ipython",
    "version": 3
   },
   "file_extension": ".py",
   "mimetype": "text/x-python",
   "name": "python",
   "nbconvert_exporter": "python",
   "pygments_lexer": "ipython3",
   "version": "3.7.3"
  }
 },
 "nbformat": 4,
 "nbformat_minor": 2
}
